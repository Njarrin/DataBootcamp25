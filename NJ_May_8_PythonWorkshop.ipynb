{
  "cells": [
    {
      "cell_type": "markdown",
      "id": "3a8f0b78-37dd-48c6-aaf5-dafabebfc5d4",
      "metadata": {
        "id": "3a8f0b78-37dd-48c6-aaf5-dafabebfc5d4"
      },
      "source": [
        "# Python Data Analytics Workshop\n",
        "\n",
        "## Introduction\n",
        "This workshop is designed to reinforce the key concepts covered in the Python Data Analytics Bootcamp. We'll go through a series of exercises covering:\n",
        "- Conditional Statements\n",
        "- Functions\n",
        "- Lists\n",
        "- Dictionaries\n",
        "- Loops\n",
        "\n",
        "Let's get started!"
      ]
    },
    {
      "cell_type": "code",
      "execution_count": null,
      "id": "176fa6e1-f85f-4d56-a2ca-9f936b5655ec",
      "metadata": {
        "colab": {
          "base_uri": "https://localhost:8080/"
        },
        "id": "176fa6e1-f85f-4d56-a2ca-9f936b5655ec",
        "outputId": "71aa882b-06a3-4273-b790-7017136528ea"
      },
      "outputs": [
        {
          "output_type": "stream",
          "name": "stdout",
          "text": [
            "10 is positive\n"
          ]
        }
      ],
      "source": [
        "## Part 1: Conditional Statements\n",
        "### Basic if statement\n",
        "# Let's check if a number is positive, negative, or zero\n",
        "number = 10  # Try changing this value\n",
        "\n",
        "if number > 0:\n",
        "    print(f\"{number} is positive\")\n",
        "elif number < 0:\n",
        "    print(f\"{number} is negative\")\n",
        "else:\n",
        "    print(f\"{number} is zero\")"
      ]
    },
    {
      "cell_type": "code",
      "execution_count": null,
      "id": "0a9a40bb-329b-43c0-9945-e68fb8f74b38",
      "metadata": {
        "colab": {
          "base_uri": "https://localhost:8080/"
        },
        "id": "0a9a40bb-329b-43c0-9945-e68fb8f74b38",
        "outputId": "1c54dc3d-cfed-42e0-c185-8de1c0d579bc"
      },
      "outputs": [
        {
          "output_type": "stream",
          "name": "stdout",
          "text": [
            "Score: 95, Grade: Grade A\n",
            "Score: 82, Grade: Grade B\n",
            "Score: 71, Grade: Grade C\n",
            "Score: 65, Grade: Grade D\n",
            "Score: 55, Grade: Grade F\n"
          ]
        }
      ],
      "source": [
        "### Exercise 1: Grade Calculator\n",
        "# Write a program that converts a numerical score to a letter grade\n",
        "# 90-100: A\n",
        "# 80-89: B\n",
        "# 70-79: C\n",
        "# 60-69: D\n",
        "# Below 60: F\n",
        "\n",
        "def calculate_grade(score):\n",
        "    # Your code here\n",
        "    if score >= 90:\n",
        "        return(\"Grade A\")\n",
        "    elif score >= 80:\n",
        "        return(\"Grade B\")\n",
        "    elif score >= 70:\n",
        "        return(\"Grade C\")\n",
        "    elif score >= 60:\n",
        "        return(\"Grade D\")\n",
        "    else:\n",
        "        return(\"Grade F\")\n",
        "\n",
        "\n",
        "# Test your function\n",
        "test_scores = [95, 82, 71, 65, 55]\n",
        "for score in test_scores:\n",
        "    print(f\"Score: {score}, Grade: {calculate_grade(score)}\")"
      ]
    },
    {
      "cell_type": "code",
      "execution_count": null,
      "id": "f42937ba-cf86-4db6-9a8d-21ae46b57edc",
      "metadata": {
        "colab": {
          "base_uri": "https://localhost:8080/"
        },
        "id": "f42937ba-cf86-4db6-9a8d-21ae46b57edc",
        "outputId": "e662196b-a9db-4b9d-fe70-2cc3b4eadf9f"
      },
      "outputs": [
        {
          "output_type": "stream",
          "name": "stdout",
          "text": [
            "Original price: $50, Final price: $50.00\n",
            "Original price: $150, Final price: $135.00\n",
            "Original price: $600, Final price: $480.00\n",
            "Original price: $1200, Final price: $840.00\n"
          ]
        }
      ],
      "source": [
        "### Exercise 2: Discount Calculator\n",
        "# Write a function that calculates the final price after applying a discount\n",
        "# If the purchase amount is $100 or more, apply a 10% discount\n",
        "# If the purchase amount is $500 or more, apply a 20% discount\n",
        "# If the purchase amount is $1000 or more, apply a 30% discount\n",
        "\n",
        "def calculate_discount(purchase_amount):\n",
        "    # Your code here\n",
        "    if purchase_amount >= 1000:\n",
        "        discount_rate = 0.30\n",
        "    elif purchase_amount >= 500:\n",
        "        discount_rate = 0.20\n",
        "    elif purchase_amount >= 100:\n",
        "        discount_rate = 0.10\n",
        "    else:\n",
        "        discount_rate= 0.00\n",
        "    discount_amount = purchase_amount * discount_rate\n",
        "    final_price = purchase_amount - discount_amount\n",
        "    return final_price\n",
        "# Test your function\n",
        "purchase_amounts = [50, 150, 600, 1200]\n",
        "for amount in purchase_amounts:\n",
        "    print(f\"Original price: ${amount}, Final price: ${calculate_discount(amount):.2f}\")"
      ]
    },
    {
      "cell_type": "code",
      "execution_count": null,
      "id": "1250743d-196f-433f-8364-c054f663bbe7",
      "metadata": {
        "colab": {
          "base_uri": "https://localhost:8080/"
        },
        "id": "1250743d-196f-433f-8364-c054f663bbe7",
        "outputId": "0e44d2d3-622e-4c16-e09b-57758e4ecb39"
      },
      "outputs": [
        {
          "output_type": "stream",
          "name": "stdout",
          "text": [
            "Hello, Data Analyst!\n"
          ]
        }
      ],
      "source": [
        "## Part 2: Functions\n",
        "### Basic function definition\n",
        "def greet(name):\n",
        "    \"\"\"A simple function that greets a person by name\"\"\"\n",
        "    return f\"Hello, {name}!\"\n",
        "\n",
        "# Call the function\n",
        "print(greet(\"Data Analyst\"))"
      ]
    },
    {
      "cell_type": "code",
      "execution_count": null,
      "id": "e9fc5c36-19f7-4359-9839-f8f85a2f67ca",
      "metadata": {
        "colab": {
          "base_uri": "https://localhost:8080/"
        },
        "id": "e9fc5c36-19f7-4359-9839-f8f85a2f67ca",
        "outputId": "574030fb-94ea-4e82-d2ae-d0e534513682"
      },
      "outputs": [
        {
          "output_type": "stream",
          "name": "stdout",
          "text": [
            "0°C = 32.0°F\n",
            "25°C = 77.0°F\n",
            "37°C = 98.6°F\n",
            "100°C = 212.0°F\n"
          ]
        }
      ],
      "source": [
        "### Exercise 3: Temperature Converter\n",
        "# Write a function that converts temperature from Celsius to Fahrenheit\n",
        "# Formula: F = C * 9/5 + 32\n",
        "\n",
        "def celsius_to_fahrenheit(celsius):\n",
        "    F = celsius * 9/5 + 32\n",
        "    return F\n",
        "\n",
        "\n",
        "# Test your function\n",
        "temperatures_c = [0, 25, 37, 100]\n",
        "for temp in temperatures_c:\n",
        "    print(f\"{temp}°C = {celsius_to_fahrenheit(temp):.1f}°F\")"
      ]
    },
    {
      "cell_type": "code",
      "execution_count": null,
      "id": "b2e220f3-5775-4d25-94e4-2de04ba930e1",
      "metadata": {
        "colab": {
          "base_uri": "https://localhost:8080/"
        },
        "id": "b2e220f3-5775-4d25-94e4-2de04ba930e1",
        "outputId": "b0e11fe8-9ccd-47fa-b34d-05724e4629bb"
      },
      "outputs": [
        {
          "output_type": "stream",
          "name": "stdout",
          "text": [
            "15\n",
            "5\n",
            "50\n",
            "2.0\n",
            "Error\n"
          ]
        }
      ],
      "source": [
        "### Exercise 4: Calculator Function\n",
        "# Write a function that takes two numbers and an operation as parameters\n",
        "# Supported operations: add, subtract, multiply, divide\n",
        "# Return the result of the operation\n",
        "\n",
        "def calculator(num1, num2, operation):\n",
        "    if operation == \"add\":\n",
        "        return num1 + num2\n",
        "    elif operation == \"subtract\":\n",
        "        return num1 - num2\n",
        "    elif operation == \"multiply\":\n",
        "        return num1 * num2\n",
        "    elif operation == \"divide\":\n",
        "        if num2 == 0:\n",
        "            return \"Error\"\n",
        "        return num1 / num2\n",
        "    else:\n",
        "        return \"Error: Invalid operation\"\n",
        "\n",
        "\n",
        "# Test your function\n",
        "print(calculator(10, 5, \"add\"))      # Should return 15\n",
        "print(calculator(10, 5, \"subtract\")) # Should return 5\n",
        "print(calculator(10, 5, \"multiply\")) # Should return 50\n",
        "print(calculator(10, 5, \"divide\"))   # Should return 2\n",
        "print(calculator(10, 0, \"divide\"))   # Should return an error"
      ]
    },
    {
      "cell_type": "code",
      "execution_count": null,
      "id": "66e03861-9786-48d2-a4cb-0691ff9470c4",
      "metadata": {
        "colab": {
          "base_uri": "https://localhost:8080/"
        },
        "id": "66e03861-9786-48d2-a4cb-0691ff9470c4",
        "outputId": "0db7ad5d-abbb-4217-9090-9f5bea2f3f69"
      },
      "outputs": [
        {
          "output_type": "stream",
          "name": "stdout",
          "text": [
            "Original list: ['apple', 'banana', 'cherry', 'date']\n",
            "First fruit: apple\n",
            "Last fruit: date\n",
            "After modification: ['apple', 'blueberry', 'cherry', 'date']\n",
            "After append: ['apple', 'blueberry', 'cherry', 'date', 'elderberry']\n",
            "Removed apple, List now: ['blueberry', 'cherry', 'date', 'elderberry']\n"
          ]
        }
      ],
      "source": [
        "## Part 3: Lists\n",
        "\n",
        "### Basic list operations\n",
        "fruits = [\"apple\", \"banana\", \"cherry\", \"date\"]\n",
        "print(\"Original list:\", fruits)\n",
        "\n",
        "# Accessing elements\n",
        "print(\"First fruit:\", fruits[0])\n",
        "print(\"Last fruit:\", fruits[-1])\n",
        "\n",
        "# Modifying the list\n",
        "fruits[1] = \"blueberry\"\n",
        "print(\"After modification:\", fruits)\n",
        "\n",
        "# Adding elements\n",
        "fruits.append(\"elderberry\")\n",
        "print(\"After append:\", fruits)\n",
        "\n",
        "# Removing elements\n",
        "removed_fruit = fruits.pop(0)\n",
        "print(f\"Removed {removed_fruit}, List now:\", fruits)"
      ]
    },
    {
      "cell_type": "code",
      "execution_count": null,
      "id": "35872f9d-2e67-4613-93e3-629674c29aeb",
      "metadata": {
        "colab": {
          "base_uri": "https://localhost:8080/"
        },
        "id": "35872f9d-2e67-4613-93e3-629674c29aeb",
        "outputId": "e314c507-816a-44c7-c61f-8dd05de71139"
      },
      "outputs": [
        {
          "output_type": "stream",
          "name": "stdout",
          "text": [
            "Statistics: {'min': 5, 'max': 42, 'average': 17.666666666666668, 'sum': 106}\n"
          ]
        }
      ],
      "source": [
        "### Exercise 5: List Statistics\n",
        "# Write a function that takes a list of numbers and returns a dictionary with:\n",
        "# - The minimum value\n",
        "# - The maximum value\n",
        "# - The average value\n",
        "# - The sum of all values\n",
        "\n",
        "def calculate_statistics(numbers):\n",
        "    # Your code here\n",
        "    if not numbers:\n",
        "        return {\n",
        "            'min': None,\n",
        "            'max': None,\n",
        "            'average': None,\n",
        "            'sum': 0\n",
        "        }\n",
        "    minimum = min(numbers)\n",
        "    maximum = max(numbers)\n",
        "    average = sum(numbers) / len(numbers)\n",
        "    total_sum = sum(numbers)\n",
        "    return {\n",
        "        'min': minimum,\n",
        "        'max': maximum,\n",
        "        'average': average,\n",
        "        'sum': total_sum\n",
        "    }\n",
        "\n",
        "# Test your function\n",
        "test_numbers = [5, 12, 8, 42, 23, 16]\n",
        "stats = calculate_statistics(test_numbers)\n",
        "print(\"Statistics:\", stats)"
      ]
    },
    {
      "cell_type": "code",
      "execution_count": null,
      "id": "e4053a7d-21e0-47a1-97c1-3393e67415d8",
      "metadata": {
        "colab": {
          "base_uri": "https://localhost:8080/"
        },
        "id": "e4053a7d-21e0-47a1-97c1-3393e67415d8",
        "outputId": "4041473b-a588-4813-c6a6-6705da1ba707"
      },
      "outputs": [
        {
          "output_type": "stream",
          "name": "stdout",
          "text": [
            "Even numbers: [2, 4, 6, 8, 10]\n"
          ]
        }
      ],
      "source": [
        "### Exercise 6: List Filtering\n",
        "# Write a function that takes a list of numbers and returns a new list containing only even numbers\n",
        "\n",
        "def filter_even_numbers(numbers):\n",
        "    # Your code here\n",
        "    even_list = []\n",
        "    for number in numbers:\n",
        "      if number % 2 == 0:\n",
        "        even_list.append(number)\n",
        "\n",
        "    return even_list\n",
        "\n",
        "# Test your function\n",
        "numbers = [1, 2, 3, 4, 5, 6, 7, 8, 9, 10]\n",
        "even_numbers = filter_even_numbers(numbers)\n",
        "print(\"Even numbers:\", even_numbers)"
      ]
    },
    {
      "cell_type": "code",
      "execution_count": null,
      "id": "f24e4b87-e552-482f-b7dc-4f108a96598b",
      "metadata": {
        "colab": {
          "base_uri": "https://localhost:8080/"
        },
        "id": "f24e4b87-e552-482f-b7dc-4f108a96598b",
        "outputId": "33e97cc9-35a7-489f-c282-c06e4a81c8b6"
      },
      "outputs": [
        {
          "output_type": "stream",
          "name": "stdout",
          "text": [
            "Student info: {'name': 'Alex', 'age': 23, 'major': 'Data Science', 'gpa': 3.8}\n",
            "Name: Alex\n",
            "Major: Data Science\n",
            "Updated student info: {'name': 'Alex', 'age': 23, 'major': 'Data Science', 'gpa': 3.9, 'year': 'Senior'}\n",
            "Removed age: 23, Student info now: {'name': 'Alex', 'major': 'Data Science', 'gpa': 3.9, 'year': 'Senior'}\n"
          ]
        }
      ],
      "source": [
        "## Part 4: Dictionaries\n",
        "### Basic dictionary operations\n",
        "student = {\n",
        "    \"name\": \"Alex\",\n",
        "    \"age\": 23,\n",
        "    \"major\": \"Data Science\",\n",
        "    \"gpa\": 3.8\n",
        "}\n",
        "\n",
        "print(\"Student info:\", student)\n",
        "\n",
        "# Accessing values\n",
        "print(\"Name:\", student[\"name\"])\n",
        "print(\"Major:\", student.get(\"major\"))\n",
        "\n",
        "# Adding or modifying key-value pairs\n",
        "student[\"year\"] = \"Senior\"\n",
        "student[\"gpa\"] = 3.9\n",
        "print(\"Updated student info:\", student)\n",
        "\n",
        "# Removing key-value pairs\n",
        "removed_age = student.pop(\"age\")\n",
        "print(f\"Removed age: {removed_age}, Student info now:\", student)"
      ]
    },
    {
      "cell_type": "code",
      "execution_count": 8,
      "id": "f26fd619-b276-494d-9b18-69bd150076e5",
      "metadata": {
        "colab": {
          "base_uri": "https://localhost:8080/"
        },
        "id": "f26fd619-b276-494d-9b18-69bd150076e5",
        "outputId": "1422079e-f8fe-40d1-c03d-aec619a24945"
      },
      "outputs": [
        {
          "output_type": "stream",
          "name": "stdout",
          "text": [
            "Word counts: {'the': 4, 'quick': 2, 'brown': 1, 'fox': 2, 'jumps': 1, 'over': 1, 'lazy': 2, 'dog': 2, 'was': 2, 'and': 1}\n"
          ]
        }
      ],
      "source": [
        "### Exercise 7: Word Counter\n",
        "# Write a function that takes a string and returns a dictionary with each word as a key\n",
        "# and the number of occurrences as the value\n",
        "\n",
        "def count_words(text):\n",
        "    # Your code here\n",
        "    text = text.lower()\n",
        "    punctuation = \".,!?\"\n",
        "    for char in punctuation:\n",
        "      text = text.replace(char, \"\")\n",
        "    words = text.split()\n",
        "    word_count = {}\n",
        "    for word in words:\n",
        "        if word in word_count:\n",
        "            word_count[word] += 1\n",
        "        else:\n",
        "            word_count[word] = 1\n",
        "    return word_count\n",
        "\n",
        "# Test your function\n",
        "sample_text = \"The quick brown fox jumps over the lazy dog. The fox was quick and the dog was lazy.\"\n",
        "word_counts = count_words(sample_text)\n",
        "print(\"Word counts:\", word_counts)"
      ]
    },
    {
      "cell_type": "code",
      "execution_count": 10,
      "id": "22f93072-bad5-4c8f-9cf1-8cfb7d38ef6e",
      "metadata": {
        "id": "22f93072-bad5-4c8f-9cf1-8cfb7d38ef6e",
        "colab": {
          "base_uri": "https://localhost:8080/"
        },
        "outputId": "099fa97a-39a3-4d91-b9b0-a365c08c6fb6"
      },
      "outputs": [
        {
          "output_type": "stream",
          "name": "stdout",
          "text": [
            "Contact Alice added\n",
            "Contact Bob added\n",
            "{'phone': '555-1234', 'email': 'alice@example.com'}\n",
            "Contact Alice updated\n",
            "{'phone': '555-1234', 'email': 'alice.new@example.com'}\n",
            "Contact Charlie not found\n"
          ]
        }
      ],
      "source": [
        "### Exercise 8: Contact Manager\n",
        "# Create a small contact manager that lets you add, update, and retrieve contact information\n",
        "\n",
        "contact_book = {}\n",
        "\n",
        "def add_contact(name, phone, email=None):\n",
        "    if name in contact_book:\n",
        "        return f\"Contact {name} already exists\"\n",
        "    contact_book[name] = {\n",
        "        \"phone\": phone,\n",
        "        \"email\": email\n",
        "    }\n",
        "    return f\"Contact {name} added\"\n",
        "\n",
        "\n",
        "def update_contact(name, phone=None, email=None):\n",
        "    if name not in contact_book:\n",
        "        return f\"Contact {name} not found\"\n",
        "    if phone:\n",
        "        contact_book[name][\"phone\"] = phone\n",
        "    if email:\n",
        "        contact_book[name][\"email\"] = email\n",
        "    return f\"Contact {name} updated\"\n",
        "\n",
        "def get_contact(name):\n",
        "    return contact_book.get(name, f\"Contact {name} not found\")\n",
        "\n",
        "# Test your contact manager\n",
        "print(add_contact(\"Alice\", \"555-1234\", \"alice@example.com\"))\n",
        "print(add_contact(\"Bob\", \"555-5678\"))\n",
        "print(get_contact(\"Alice\"))\n",
        "print(update_contact(\"Alice\", email=\"alice.new@example.com\"))\n",
        "print(get_contact(\"Alice\"))\n",
        "print(get_contact(\"Charlie\"))"
      ]
    },
    {
      "cell_type": "code",
      "execution_count": 11,
      "id": "7a60d897-fb8e-40c2-ba3f-cdb96835dbaa",
      "metadata": {
        "id": "7a60d897-fb8e-40c2-ba3f-cdb96835dbaa",
        "colab": {
          "base_uri": "https://localhost:8080/"
        },
        "outputId": "fcfb381f-f647-4312-abf2-5b97e513e9fa"
      },
      "outputs": [
        {
          "output_type": "stream",
          "name": "stdout",
          "text": [
            "Iterating through a list:\n",
            "Color: red\n",
            "Color: green\n",
            "Color: blue\n",
            "Color: yellow\n",
            "\n",
            "Using range():\n",
            "Number: 0\n",
            "Number: 1\n",
            "Number: 2\n",
            "Number: 3\n",
            "Number: 4\n",
            "\n",
            "Using a while loop:\n",
            "Count: 0\n",
            "Count: 1\n",
            "Count: 2\n",
            "Count: 3\n",
            "Count: 4\n"
          ]
        }
      ],
      "source": [
        "## Part 5: Loops\n",
        "### For loop with a list\n",
        "print(\"Iterating through a list:\")\n",
        "colors = [\"red\", \"green\", \"blue\", \"yellow\"]\n",
        "for color in colors:\n",
        "    print(f\"Color: {color}\")\n",
        "\n",
        "### For loop with range\n",
        "print(\"\\nUsing range():\")\n",
        "for i in range(5):\n",
        "    print(f\"Number: {i}\")\n",
        "\n",
        "### While loop\n",
        "print(\"\\nUsing a while loop:\")\n",
        "count = 0\n",
        "while count < 5:\n",
        "    print(f\"Count: {count}\")\n",
        "    count += 1"
      ]
    },
    {
      "cell_type": "code",
      "execution_count": 12,
      "id": "765810a0-40ee-492d-83fa-fe47f5e18d44",
      "metadata": {
        "id": "765810a0-40ee-492d-83fa-fe47f5e18d44",
        "colab": {
          "base_uri": "https://localhost:8080/"
        },
        "outputId": "497e6de7-2393-4762-e839-76823394fcda"
      },
      "outputs": [
        {
          "output_type": "stream",
          "name": "stdout",
          "text": [
            "Factorial of 0 = 1\n",
            "Factorial of 1 = 1\n",
            "Factorial of 2 = 2\n",
            "Factorial of 3 = 6\n",
            "Factorial of 4 = 24\n",
            "Factorial of 5 = 120\n"
          ]
        }
      ],
      "source": [
        "### Exercise 9: Factorial Calculator\n",
        "# Write a function that calculates the factorial of a number using a loop\n",
        "# Factorial of n = n * (n-1) * (n-2) * ... * 1\n",
        "\n",
        "def factorial(n):\n",
        "    # Your code here\n",
        "    if n == 0 or n == 1:\n",
        "        return 1\n",
        "    elif n < 0:\n",
        "        return \"Error\"\n",
        "    else:\n",
        "        result = 1\n",
        "        for i in range(1, n + 1):\n",
        "            result *= i\n",
        "        return result\n",
        "\n",
        "\n",
        "# Test your function\n",
        "for num in range(6):\n",
        "    print(f\"Factorial of {num} = {factorial(num)}\")"
      ]
    },
    {
      "cell_type": "code",
      "execution_count": 13,
      "id": "97a5e5a1-907b-4e8e-90ba-45fb65a9c48c",
      "metadata": {
        "id": "97a5e5a1-907b-4e8e-90ba-45fb65a9c48c",
        "colab": {
          "base_uri": "https://localhost:8080/"
        },
        "outputId": "89749e4f-5495-4b99-e346-b98f80c7746a"
      },
      "outputs": [
        {
          "output_type": "stream",
          "name": "stdout",
          "text": [
            "\n",
            "Student Analysis:\n",
            "Individual Averages:\n",
            "  Alice: 90.00\n",
            "  Bob: 86.50\n",
            "  Charlie: 94.00\n",
            "  David: 0.00\n",
            "Top Student: Charlie with average of 94.00\n"
          ]
        }
      ],
      "source": [
        "### Exercise 10: Data Analysis\n",
        "# You're given a list of dictionaries, each representing a student's score on different tests.\n",
        "# Calculate the average score for each student and identify the student with the highest average.\n",
        "\n",
        "students_data = [\n",
        "    {\"name\": \"Alice\", \"scores\": [88, 92, 95, 85]},\n",
        "    {\"name\": \"Bob\", \"scores\": [90, 87, 88, 81]},\n",
        "    {\"name\": \"Charlie\", \"scores\": [92, 95, 96, 93]},\n",
        "    {\"name\": \"David\", \"scores\": [78, 85, 91, 89]}\n",
        "]\n",
        "\n",
        "def analyze_student_scores(students):\n",
        "    individual_averages = {}\n",
        "    top_student = None\n",
        "    top_average = -1\n",
        "\n",
        "    for student in students:\n",
        "        name = student[\"name\"]\n",
        "        scores = student[\"scores\"]\n",
        "        average_score = sum(scores) / len(scores)\n",
        "        individual_averages[name] = average_score\n",
        "        if average_score > top_average:\n",
        "            top_average = average_score\n",
        "            top_student = name\n",
        "    else:\n",
        "      individual_averages[name] = 0\n",
        "    return {\n",
        "        \"individual_averages\": individual_averages,\n",
        "        \"top_student\": top_student,\n",
        "        \"top_average\": top_average\n",
        "    }\n",
        "\n",
        "\n",
        "# Test your function\n",
        "analysis = analyze_student_scores(students_data)\n",
        "print(\"\\nStudent Analysis:\")\n",
        "print(\"Individual Averages:\")\n",
        "for name, avg in analysis[\"individual_averages\"].items():\n",
        "    print(f\"  {name}: {avg:.2f}\")\n",
        "print(f\"Top Student: {analysis['top_student']} with average of {analysis['top_average']:.2f}\")"
      ]
    },
    {
      "cell_type": "code",
      "execution_count": 14,
      "id": "2005be44-63f8-4a38-9436-bd8543e5e551",
      "metadata": {
        "id": "2005be44-63f8-4a38-9436-bd8543e5e551",
        "colab": {
          "base_uri": "https://localhost:8080/"
        },
        "outputId": "cd0bc321-7977-4882-9b4c-032d2086dce1"
      },
      "outputs": [
        {
          "output_type": "stream",
          "name": "stdout",
          "text": [
            "\n",
            "Sales Analysis:\n",
            "Monthly Sales:\n",
            "  Jan: $3030\n",
            "  Feb: $3420\n",
            "  Mar: $3580\n",
            "\n",
            "Category Sales:\n",
            "  Electronics: $4250\n",
            "  Books: $2550\n",
            "  Clothing: $3230\n",
            "\n",
            "Best Month: Mar with $3580\n",
            "Best Category: Electronics with $4250\n",
            "Total Sales: $10030\n"
          ]
        }
      ],
      "source": [
        "## Final Challenge: Sales Data Analysis\n",
        "\n",
        "# You're given a list of dictionaries representing monthly sales data for a store.\n",
        "# Each dictionary contains the month, category, and sales amount.\n",
        "\n",
        "sales_data = [\n",
        "    {\"month\": \"Jan\", \"category\": \"Electronics\", \"amount\": 1200},\n",
        "    {\"month\": \"Jan\", \"category\": \"Books\", \"amount\": 850},\n",
        "    {\"month\": \"Jan\", \"category\": \"Clothing\", \"amount\": 980},\n",
        "    {\"month\": \"Feb\", \"category\": \"Electronics\", \"amount\": 1450},\n",
        "    {\"month\": \"Feb\", \"category\": \"Books\", \"amount\": 920},\n",
        "    {\"month\": \"Feb\", \"category\": \"Clothing\", \"amount\": 1050},\n",
        "    {\"month\": \"Mar\", \"category\": \"Electronics\", \"amount\": 1600},\n",
        "    {\"month\": \"Mar\", \"category\": \"Books\", \"amount\": 780},\n",
        "    {\"month\": \"Mar\", \"category\": \"Clothing\", \"amount\": 1200}\n",
        "]\n",
        "\n",
        "def analyze_sales(sales):\n",
        "    # Step 1 Calculate total sales per month\n",
        "    monthly_sales = {}\n",
        "    for sale in sales:\n",
        "        month = sale[\"month\"]\n",
        "        amount = sale[\"amount\"]\n",
        "        if month in monthly_sales:\n",
        "            monthly_sales[month] += amount\n",
        "        else:\n",
        "            monthly_sales[month] = amount\n",
        "\n",
        "\n",
        "    # Step 2 Calculate total sales per category\n",
        "    category_sales = {}\n",
        "    for sale in sales:\n",
        "        category = sale[\"category\"]\n",
        "        amount = sale[\"amount\"]\n",
        "        if category in category_sales:\n",
        "            category_sales[category] += amount\n",
        "        else:\n",
        "            category_sales[category] = amount\n",
        "\n",
        "\n",
        "    # Step 3 Find the best performing month and category\n",
        "    best_month = None\n",
        "    best_month_sales = -1\n",
        "    for month, total in monthly_sales.items():\n",
        "        if total > best_month_sales:\n",
        "            best_month_sales = total\n",
        "            best_month = month\n",
        "\n",
        "    best_category = None\n",
        "    best_category_sales = -1\n",
        "    for category, total in category_sales.items():\n",
        "        if total > best_category_sales:\n",
        "            best_category_sales = total\n",
        "            best_category = category\n",
        "\n",
        "\n",
        "    # Step 4 Calculate overall total sales\n",
        "    total_sales = sum(sale[\"amount\"] for sale in sales)\n",
        "    return {\n",
        "        \"monthly_sales\": monthly_sales,\n",
        "        \"category_sales\": category_sales,\n",
        "        \"best_month\": best_month,\n",
        "        \"best_category\": best_category,\n",
        "        \"total_sales\": total_sales\n",
        "    }\n",
        "\n",
        "\n",
        "# Test your analysis function\n",
        "sales_analysis = analyze_sales(sales_data)\n",
        "print(\"\\nSales Analysis:\")\n",
        "print(\"Monthly Sales:\")\n",
        "for month, amount in sales_analysis[\"monthly_sales\"].items():\n",
        "    print(f\"  {month}: ${amount}\")\n",
        "print(\"\\nCategory Sales:\")\n",
        "for category, amount in sales_analysis[\"category_sales\"].items():\n",
        "    print(f\"  {category}: ${amount}\")\n",
        "print(f\"\\nBest Month: {sales_analysis['best_month']} with ${sales_analysis['monthly_sales'][sales_analysis['best_month']]}\")\n",
        "print(f\"Best Category: {sales_analysis['best_category']} with ${sales_analysis['category_sales'][sales_analysis['best_category']]}\")\n",
        "print(f\"Total Sales: ${sales_analysis['total_sales']}\")"
      ]
    },
    {
      "cell_type": "markdown",
      "id": "2cf4fe31-f71d-46dd-bbd0-0cbf1f1258a8",
      "metadata": {
        "id": "2cf4fe31-f71d-46dd-bbd0-0cbf1f1258a8"
      },
      "source": [
        "## Congratulations on completing the Python Data Analytics Workshop!\n",
        "## Key concepts covered:\n",
        " - Conditional statements (if-elif-else)\n",
        " - Functions and parameters\n",
        " - Lists and list operations\n",
        " - Dictionaries and dictionary operations\n",
        " - For and while loops\n",
        " - Data analysis with Python"
      ]
    },
    {
      "cell_type": "code",
      "execution_count": null,
      "id": "d6cf618c-19e6-41fd-ac48-ca2682e14718",
      "metadata": {
        "id": "d6cf618c-19e6-41fd-ac48-ca2682e14718"
      },
      "outputs": [],
      "source": []
    }
  ],
  "metadata": {
    "kernelspec": {
      "display_name": "Python 3 (ipykernel)",
      "language": "python",
      "name": "python3"
    },
    "language_info": {
      "codemirror_mode": {
        "name": "ipython",
        "version": 3
      },
      "file_extension": ".py",
      "mimetype": "text/x-python",
      "name": "python",
      "nbconvert_exporter": "python",
      "pygments_lexer": "ipython3",
      "version": "3.13.2"
    },
    "colab": {
      "provenance": []
    }
  },
  "nbformat": 4,
  "nbformat_minor": 5
}